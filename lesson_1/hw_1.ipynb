{
 "cells": [
  {
   "cell_type": "markdown",
   "metadata": {},
   "source": [
    "## Урок 1. Введение в PyTorch"
   ]
  },
  {
   "cell_type": "code",
   "execution_count": 2,
   "metadata": {
    "scrolled": true
   },
   "outputs": [
    {
     "name": "stdout",
     "output_type": "stream",
     "text": [
      "Name: torch\n",
      "Version: 1.7.1\n",
      "Summary: Tensors and Dynamic neural networks in Python with strong GPU acceleration\n",
      "Home-page: https://pytorch.org/\n",
      "Author: PyTorch Team\n",
      "Author-email: packages@pytorch.org\n",
      "License: BSD-3\n",
      "Location: c:\\users\\alexander\\anaconda3\\lib\\site-packages\n",
      "Requires: typing-extensions, numpy\n",
      "Required-by: torchvision\n"
     ]
    }
   ],
   "source": [
    "# !pip3 install torch torchvision\n",
    "# !pip3 show torch\n",
    "# !pip3 show torchvision\n",
    "# !nvcc --version"
   ]
  },
  {
   "cell_type": "code",
   "execution_count": null,
   "metadata": {},
   "outputs": [],
   "source": [
    "import numpy as np\n",
    "import pandas as pd\n",
    "import matplotlib.pyplot as plt\n",
    "\n",
    "import torch\n",
    "from torch import nn \n",
    "from torch import optim\n",
    "import torch.nn.functional as F\n",
    "from torch.autograd import Variable\n",
    "import torchvision\n",
    "import torchvision.transforms as transforms"
   ]
  },
  {
   "cell_type": "code",
   "execution_count": 11,
   "metadata": {},
   "outputs": [],
   "source": [
    "def print_tens_info(tensor):\n",
    "    print(\"X :\\n%s\\n\" % tensor)\n",
    "    print(\"X количество измерений:\\n%s\\n\" % tensor.dim())\n",
    "    print(\"X размеры : \",  tensor.size())\n",
    "    print(\"X тип : %s\\n\" % (tensor.type()))\n",
    "    print(\"Добавим 10 :\\n%s\\n\" % (tensor + 10))\n",
    "#     print(\"Среднее по строчке :\\n%s\\n\" % (tensor.mean(axis=-1)))\n",
    "#     print(\"Среднее по столбцу :\\n%s\\n\" % (tensor.mean(axis=0)))"
   ]
  },
  {
   "cell_type": "markdown",
   "metadata": {},
   "source": [
    "## Домашнее задание: "
   ]
  },
  {
   "cell_type": "markdown",
   "metadata": {},
   "source": [
    "### 1. Добиться вразумительного результата от модели, собранной на занятии (7 угаданныx картинок из 10 предложенных на семинаре). \n",
    "Варианты изменений:  \n",
    "- изменение слоёв и их количества;\n",
    "- изменение метода оптимизации; \n",
    "- изменение процесса обучения; \n",
    "- для продвинутых: преобразование данных transform  "
   ]
  },
  {
   "cell_type": "markdown",
   "metadata": {},
   "source": [
    "#### Загрузка данных и формирование датасетов"
   ]
  },
  {
   "cell_type": "code",
   "execution_count": 242,
   "metadata": {},
   "outputs": [],
   "source": [
    "classes = ('plane', 'car', 'bird', 'cat',\n",
    "           'deer', 'dog', 'frog', 'horse', 'ship', 'truck')\n",
    "\n",
    "train_dataset = torchvision.datasets.CIFAR10(\n",
    "    root='../data/', # путь куда будут скачиваться наши данные(если download=true), \n",
    "                        # или где лежат наши данные(dowload=False)\n",
    "    train=True, # говорим что используем датасет для обучения  \n",
    "    transform=transforms.ToTensor(), # важная строчка: здесь мы преобразуем данные\n",
    "                                    # из датасета в формат тензоров из торч\n",
    "    download=False)\n",
    "\n",
    "train_loader = torch.utils.data.DataLoader(dataset=train_dataset,\n",
    "                                           batch_size=64, \n",
    "                                           shuffle=True)\n",
    "\n",
    "test_dataset = torchvision.datasets.CIFAR10(\n",
    "    root='../data', \n",
    "    train=False,\n",
    "    download=False, \n",
    "    transform=transforms.ToTensor())\n",
    "\n",
    "test_loader = torch.utils.data.DataLoader(test_dataset, batch_size=10,\n",
    "                                          shuffle=False)"
   ]
  },
  {
   "cell_type": "code",
   "execution_count": 240,
   "metadata": {
    "collapsed": true
   },
   "outputs": [
    {
     "name": "stdout",
     "output_type": "stream",
     "text": [
      "torch.Size([3, 32, 32])\n",
      "truck\n"
     ]
    },
    {
     "data": {
      "text/plain": [
       "<matplotlib.image.AxesImage at 0x19895d71948>"
      ]
     },
     "execution_count": 240,
     "metadata": {},
     "output_type": "execute_result"
    },
    {
     "data": {
      "image/png": "[encoded data removed]",
      "text/plain": [
       "<Figure size 432x288 with 1 Axes>"
      ]
     },
     "metadata": {
      "needs_background": "light"
     },
     "output_type": "display_data"
    }
   ],
   "source": [
    "image, label = train_dataset[1]\n",
    "print (image.size())\n",
    "print (classes[label])\n",
    "\n",
    "plt.imshow(image.permute(1, 2, 0).numpy())"
   ]
  },
  {
   "cell_type": "markdown",
   "metadata": {},
   "source": [
    "#### Инициализация параметров сети"
   ]
  },
  {
   "cell_type": "code",
   "execution_count": 35,
   "metadata": {},
   "outputs": [],
   "source": [
    "class Net(nn.Module):\n",
    "    def __init__(self):\n",
    "        super().__init__()\n",
    "        self.conv1 = nn.Conv2d(3, 6, 5)\n",
    "        self.pool = nn.MaxPool2d(2, 2)\n",
    "        self.conv2 = nn.Conv2d(6, 16, 5)\n",
    "        self.fc1 = nn.Linear(16 * 5 * 5, 120)\n",
    "        self.fc2 = nn.Linear(120, 84)\n",
    "        self.fc3 = nn.Linear(84, 10)\n",
    "\n",
    "    def forward(self, x):\n",
    "        x = self.pool(F.relu(self.conv1(x)))\n",
    "        x = self.pool(F.relu(self.conv2(x)))\n",
    "        x = x.view(-1, 16 * 5 * 5)\n",
    "        x = F.relu(self.fc1(x))\n",
    "        x = F.relu(self.fc2(x))\n",
    "        pred = self.fc3(x)\n",
    "        return pred"
   ]
  },
  {
   "cell_type": "code",
   "execution_count": 246,
   "metadata": {},
   "outputs": [],
   "source": [
    "# net = Net().to('cuda')\n",
    "net = Net()"
   ]
  },
  {
   "cell_type": "code",
   "execution_count": 247,
   "metadata": {},
   "outputs": [],
   "source": [
    "criterion = nn.CrossEntropyLoss()\n",
    "optimizer = optim.SGD(net.parameters(), lr=0.001, momentum=0.9)"
   ]
  },
  {
   "cell_type": "markdown",
   "metadata": {},
   "source": [
    "#### Обучение"
   ]
  },
  {
   "cell_type": "code",
   "execution_count": 248,
   "metadata": {
    "collapsed": true
   },
   "outputs": [
    {
     "name": "stdout",
     "output_type": "stream",
     "text": [
      "[1,     1] loss: 0.001\n"
     ]
    },
    {
     "ename": "KeyboardInterrupt",
     "evalue": "",
     "output_type": "error",
     "traceback": [
      "\u001b[1;31m---------------------------------------------------------------------------\u001b[0m",
      "\u001b[1;31mKeyboardInterrupt\u001b[0m                         Traceback (most recent call last)",
      "\u001b[1;32m<ipython-input-248-c507cf7da6d0>\u001b[0m in \u001b[0;36m<module>\u001b[1;34m\u001b[0m\n\u001b[0;32m      5\u001b[0m \u001b[1;33m\u001b[0m\u001b[0m\n\u001b[0;32m      6\u001b[0m         \u001b[1;31m# Обнуляем градиент\u001b[0m\u001b[1;33m\u001b[0m\u001b[1;33m\u001b[0m\u001b[1;33m\u001b[0m\u001b[0m\n\u001b[1;32m----> 7\u001b[1;33m         \u001b[0moptimizer\u001b[0m\u001b[1;33m.\u001b[0m\u001b[0mzero_grad\u001b[0m\u001b[1;33m(\u001b[0m\u001b[1;33m)\u001b[0m\u001b[1;33m\u001b[0m\u001b[1;33m\u001b[0m\u001b[0m\n\u001b[0m\u001b[0;32m      8\u001b[0m \u001b[1;33m\u001b[0m\u001b[0m\n\u001b[0;32m      9\u001b[0m         \u001b[1;31m# Делаем предсказание\u001b[0m\u001b[1;33m\u001b[0m\u001b[1;33m\u001b[0m\u001b[1;33m\u001b[0m\u001b[0m\n",
      "\u001b[1;32mC:\\ProgramData\\Anaconda3\\lib\\site-packages\\torch\\optim\\optimizer.py\u001b[0m in \u001b[0;36mzero_grad\u001b[1;34m(self, set_to_none)\u001b[0m\n\u001b[0;32m    190\u001b[0m                         \u001b[1;32melse\u001b[0m\u001b[1;33m:\u001b[0m\u001b[1;33m\u001b[0m\u001b[1;33m\u001b[0m\u001b[0m\n\u001b[0;32m    191\u001b[0m                             \u001b[0mp\u001b[0m\u001b[1;33m.\u001b[0m\u001b[0mgrad\u001b[0m\u001b[1;33m.\u001b[0m\u001b[0mrequires_grad_\u001b[0m\u001b[1;33m(\u001b[0m\u001b[1;32mFalse\u001b[0m\u001b[1;33m)\u001b[0m\u001b[1;33m\u001b[0m\u001b[1;33m\u001b[0m\u001b[0m\n\u001b[1;32m--> 192\u001b[1;33m                         \u001b[0mp\u001b[0m\u001b[1;33m.\u001b[0m\u001b[0mgrad\u001b[0m\u001b[1;33m.\u001b[0m\u001b[0mzero_\u001b[0m\u001b[1;33m(\u001b[0m\u001b[1;33m)\u001b[0m\u001b[1;33m\u001b[0m\u001b[1;33m\u001b[0m\u001b[0m\n\u001b[0m\u001b[0;32m    193\u001b[0m \u001b[1;33m\u001b[0m\u001b[0m\n\u001b[0;32m    194\u001b[0m     \u001b[1;32mdef\u001b[0m \u001b[0mstep\u001b[0m\u001b[1;33m(\u001b[0m\u001b[0mself\u001b[0m\u001b[1;33m,\u001b[0m \u001b[0mclosure\u001b[0m\u001b[1;33m)\u001b[0m\u001b[1;33m:\u001b[0m\u001b[1;33m\u001b[0m\u001b[1;33m\u001b[0m\u001b[0m\n",
      "\u001b[1;31mKeyboardInterrupt\u001b[0m: "
     ]
    }
   ],
   "source": [
    "for epoch in range(10):  # 10 эпох \n",
    "    running_loss = 0.0 # Для вывода процесса обучения\n",
    "    for i, data in enumerate(train_loader, 0):\n",
    "        inputs, labels = data[0], data[1]\n",
    "\n",
    "        # Обнуляем градиент\n",
    "        optimizer.zero_grad()\n",
    "    \n",
    "        # Делаем предсказание\n",
    "        outputs = net(inputs)\n",
    "        # Рассчитываем лосс-функцию\n",
    "        loss = criterion(outputs, labels)\n",
    "        # Делаем шаг назад по лоссу\n",
    "        loss.backward()\n",
    "        # Делаем шаг нашего оптимайзера\n",
    "        optimizer.step()\n",
    "\n",
    "        # выводим статистику о процессе обучения\n",
    "        running_loss += loss.item()\n",
    "        if i % 300 == 0:    # печатаем каждые 300 mini-batches\n",
    "            print('[%d, %5d] loss: %.3f' %\n",
    "                  (epoch + 1, i + 1, running_loss / 2000))\n",
    "            running_loss = 0.0\n",
    "\n",
    "print('Training is finished!')"
   ]
  },
  {
   "cell_type": "markdown",
   "metadata": {},
   "source": [
    "#### Сохранение и загрузка модели"
   ]
  },
  {
   "cell_type": "code",
   "execution_count": 74,
   "metadata": {},
   "outputs": [],
   "source": [
    "PATH = './cifar_net_version_test_intro.pth'\n",
    "torch.save(net.state_dict(), PATH)"
   ]
  },
  {
   "cell_type": "code",
   "execution_count": 75,
   "metadata": {},
   "outputs": [
    {
     "name": "stdout",
     "output_type": "stream",
     "text": [
      "Model state_dict: \n",
      "conv1.weight  \\  torch.Size([6, 3, 5, 5])\n",
      "conv1.bias  \\  torch.Size([6])\n",
      "conv2.weight  \\  torch.Size([16, 6, 5, 5])\n",
      "conv2.bias  \\  torch.Size([16])\n",
      "fc1.weight  \\  torch.Size([120, 400])\n",
      "fc1.bias  \\  torch.Size([120])\n",
      "fc2.weight  \\  torch.Size([84, 120])\n",
      "fc2.bias  \\  torch.Size([84])\n",
      "fc3.weight  \\  torch.Size([10, 84])\n",
      "fc3.bias  \\  torch.Size([10])\n"
     ]
    }
   ],
   "source": [
    "print(\"Model state_dict: \")\n",
    "for param in net.state_dict():\n",
    "    print(param,\" \\ \", net.state_dict()[param].size())"
   ]
  },
  {
   "cell_type": "code",
   "execution_count": 223,
   "metadata": {},
   "outputs": [
    {
     "data": {
      "text/plain": [
       "<All keys matched successfully>"
      ]
     },
     "execution_count": 223,
     "metadata": {},
     "output_type": "execute_result"
    }
   ],
   "source": [
    "net = Net()\n",
    "net.load_state_dict(torch.load(PATH))"
   ]
  },
  {
   "cell_type": "markdown",
   "metadata": {},
   "source": [
    "#### Тестирование модели"
   ]
  },
  {
   "cell_type": "code",
   "execution_count": 232,
   "metadata": {},
   "outputs": [],
   "source": [
    "data_iter = iter(test_loader)\n",
    "images, labels = data_iter.next()"
   ]
  },
  {
   "cell_type": "code",
   "execution_count": 225,
   "metadata": {},
   "outputs": [
    {
     "name": "stdout",
     "output_type": "stream",
     "text": [
      "        cat       ship       ship      plane       frog       frog        car       frog        cat        car\n"
     ]
    },
    {
     "data": {
      "image/png": "[encoded data removed]",
      "text/plain": [
       "<Figure size 1440x1440 with 1 Axes>"
      ]
     },
     "metadata": {
      "needs_background": "light"
     },
     "output_type": "display_data"
    }
   ],
   "source": [
    "outputs = net(images)\n",
    "plt.figure(figsize=[20, 20])\n",
    "imgs = torchvision.utils.make_grid(images, nrow=10)\n",
    "plt.imshow(imgs.permute(1, 2, 0).numpy())\n",
    "print('     ', '      '.join('%5s' % classes[labels[j]] for j in range(10)))"
   ]
  },
  {
   "cell_type": "code",
   "execution_count": 165,
   "metadata": {},
   "outputs": [
    {
     "name": "stdout",
     "output_type": "stream",
     "text": [
      "Predicted:    dog  ship   car  ship  frog  frog   car  frog  bird   car\n"
     ]
    }
   ],
   "source": [
    "_, predicted = torch.max(outputs, 1)\n",
    "\n",
    "preds = [classes[predicted[j]] for j in range(10)]\n",
    "\n",
    "print('Predicted: ', ' '.join('%5s' % p for p in preds))"
   ]
  },
  {
   "cell_type": "code",
   "execution_count": 193,
   "metadata": {},
   "outputs": [],
   "source": [
    "table = pd.DataFrame(list(zip([classes[l] for l in labels], preds)), columns=['class', 'pred'])"
   ]
  },
  {
   "cell_type": "code",
   "execution_count": 213,
   "metadata": {},
   "outputs": [],
   "source": [
    "def style_specific_cell(x):\n",
    "    \n",
    "    df = pd.DataFrame('', index=x.index, columns=x.columns)\n",
    "    \n",
    "    for index, row in table.iterrows():\n",
    "        color = f\"background-color: {'lightgreen' if row['class'] == row['pred'] else 'red'}\"\n",
    "        df.iloc[index, 1] = color\n",
    "            \n",
    "    return df\n",
    "\n",
    "def calc_prec(df):\n",
    "    precision = 0\n",
    "    for index, row in df.iterrows():\n",
    "        if row['class'] == row['pred']:\n",
    "            precision += 1\n",
    "\n",
    "    return precision / df.shape[0] * 100"
   ]
  },
  {
   "cell_type": "code",
   "execution_count": 214,
   "metadata": {},
   "outputs": [
    {
     "data": {
      "text/html": [
       "<style  type=\"text/css\" >\n",
       "#T_551e0_row0_col1,#T_551e0_row2_col1,#T_551e0_row3_col1,#T_551e0_row8_col1{\n",
       "            background-color:  red;\n",
       "        }#T_551e0_row1_col1,#T_551e0_row4_col1,#T_551e0_row5_col1,#T_551e0_row6_col1,#T_551e0_row7_col1,#T_551e0_row9_col1{\n",
       "            background-color:  lightgreen;\n",
       "        }</style><table id=\"T_551e0_\" ><thead>    <tr>        <th class=\"blank level0\" ></th>        <th class=\"col_heading level0 col0\" >class</th>        <th class=\"col_heading level0 col1\" >pred</th>    </tr></thead><tbody>\n",
       "                <tr>\n",
       "                        <th id=\"T_551e0_level0_row0\" class=\"row_heading level0 row0\" >0</th>\n",
       "                        <td id=\"T_551e0_row0_col0\" class=\"data row0 col0\" >cat</td>\n",
       "                        <td id=\"T_551e0_row0_col1\" class=\"data row0 col1\" >dog</td>\n",
       "            </tr>\n",
       "            <tr>\n",
       "                        <th id=\"T_551e0_level0_row1\" class=\"row_heading level0 row1\" >1</th>\n",
       "                        <td id=\"T_551e0_row1_col0\" class=\"data row1 col0\" >ship</td>\n",
       "                        <td id=\"T_551e0_row1_col1\" class=\"data row1 col1\" >ship</td>\n",
       "            </tr>\n",
       "            <tr>\n",
       "                        <th id=\"T_551e0_level0_row2\" class=\"row_heading level0 row2\" >2</th>\n",
       "                        <td id=\"T_551e0_row2_col0\" class=\"data row2 col0\" >ship</td>\n",
       "                        <td id=\"T_551e0_row2_col1\" class=\"data row2 col1\" >car</td>\n",
       "            </tr>\n",
       "            <tr>\n",
       "                        <th id=\"T_551e0_level0_row3\" class=\"row_heading level0 row3\" >3</th>\n",
       "                        <td id=\"T_551e0_row3_col0\" class=\"data row3 col0\" >plane</td>\n",
       "                        <td id=\"T_551e0_row3_col1\" class=\"data row3 col1\" >ship</td>\n",
       "            </tr>\n",
       "            <tr>\n",
       "                        <th id=\"T_551e0_level0_row4\" class=\"row_heading level0 row4\" >4</th>\n",
       "                        <td id=\"T_551e0_row4_col0\" class=\"data row4 col0\" >frog</td>\n",
       "                        <td id=\"T_551e0_row4_col1\" class=\"data row4 col1\" >frog</td>\n",
       "            </tr>\n",
       "            <tr>\n",
       "                        <th id=\"T_551e0_level0_row5\" class=\"row_heading level0 row5\" >5</th>\n",
       "                        <td id=\"T_551e0_row5_col0\" class=\"data row5 col0\" >frog</td>\n",
       "                        <td id=\"T_551e0_row5_col1\" class=\"data row5 col1\" >frog</td>\n",
       "            </tr>\n",
       "            <tr>\n",
       "                        <th id=\"T_551e0_level0_row6\" class=\"row_heading level0 row6\" >6</th>\n",
       "                        <td id=\"T_551e0_row6_col0\" class=\"data row6 col0\" >car</td>\n",
       "                        <td id=\"T_551e0_row6_col1\" class=\"data row6 col1\" >car</td>\n",
       "            </tr>\n",
       "            <tr>\n",
       "                        <th id=\"T_551e0_level0_row7\" class=\"row_heading level0 row7\" >7</th>\n",
       "                        <td id=\"T_551e0_row7_col0\" class=\"data row7 col0\" >frog</td>\n",
       "                        <td id=\"T_551e0_row7_col1\" class=\"data row7 col1\" >frog</td>\n",
       "            </tr>\n",
       "            <tr>\n",
       "                        <th id=\"T_551e0_level0_row8\" class=\"row_heading level0 row8\" >8</th>\n",
       "                        <td id=\"T_551e0_row8_col0\" class=\"data row8 col0\" >cat</td>\n",
       "                        <td id=\"T_551e0_row8_col1\" class=\"data row8 col1\" >bird</td>\n",
       "            </tr>\n",
       "            <tr>\n",
       "                        <th id=\"T_551e0_level0_row9\" class=\"row_heading level0 row9\" >9</th>\n",
       "                        <td id=\"T_551e0_row9_col0\" class=\"data row9 col0\" >car</td>\n",
       "                        <td id=\"T_551e0_row9_col1\" class=\"data row9 col1\" >car</td>\n",
       "            </tr>\n",
       "    </tbody></table>"
      ],
      "text/plain": [
       "<pandas.io.formats.style.Styler at 0x19895b481c8>"
      ]
     },
     "execution_count": 214,
     "metadata": {},
     "output_type": "execute_result"
    }
   ],
   "source": [
    "table.style.apply(style_specific_cell, axis=None)"
   ]
  },
  {
   "cell_type": "code",
   "execution_count": 218,
   "metadata": {},
   "outputs": [
    {
     "name": "stdout",
     "output_type": "stream",
     "text": [
      "precision = 60.0 %\n"
     ]
    }
   ],
   "source": [
    "print(f'precision = {calc_prec(table)} %')"
   ]
  },
  {
   "cell_type": "code",
   "execution_count": null,
   "metadata": {},
   "outputs": [],
   "source": []
  },
  {
   "cell_type": "code",
   "execution_count": 249,
   "metadata": {},
   "outputs": [],
   "source": [
    "steps = [0.005, 0.001, 0.0005]\n",
    "momentums = [0.85, 0.9, 0.95]\n",
    "epoches = [8, 10, 12]"
   ]
  },
  {
   "cell_type": "code",
   "execution_count": 252,
   "metadata": {},
   "outputs": [
    {
     "name": "stdout",
     "output_type": "stream",
     "text": [
      "step\tmomen\tepoch\tprec\n",
      "0.005\t0.85\t8\t20.0\n",
      "0.005\t0.85\t10\t0.0\n",
      "0.005\t0.85\t12\t10.0\n",
      "0.005\t0.9\t8\t0.0\n",
      "0.005\t0.9\t10\t0.0\n",
      "0.005\t0.9\t12\t10.0\n",
      "0.005\t0.95\t8\t10.0\n",
      "0.005\t0.95\t10\t0.0\n",
      "0.005\t0.95\t12\t10.0\n",
      "0.001\t0.85\t8\t0.0\n",
      "0.001\t0.85\t10\t10.0\n",
      "0.001\t0.85\t12\t10.0\n",
      "0.001\t0.9\t8\t0.0\n",
      "0.001\t0.9\t10\t20.0\n",
      "0.001\t0.9\t12\t0.0\n",
      "0.001\t0.95\t8\t30.0\n",
      "0.001\t0.95\t10\t20.0\n",
      "0.001\t0.95\t12\t20.0\n",
      "0.0005\t0.85\t8\t20.0\n",
      "0.0005\t0.85\t10\t20.0\n",
      "0.0005\t0.85\t12\t10.0\n",
      "0.0005\t0.9\t8\t20.0\n",
      "0.0005\t0.9\t10\t10.0\n",
      "0.0005\t0.9\t12\t10.0\n",
      "0.0005\t0.95\t8\t10.0\n",
      "0.0005\t0.95\t10\t0.0\n",
      "0.0005\t0.95\t12\t0.0\n"
     ]
    }
   ],
   "source": [
    "print('step\\tmomen\\tepoch\\tprec')\n",
    "\n",
    "for s in steps:\n",
    "    for m in momentums:\n",
    "        for e in epoches:            \n",
    "\n",
    "            net = Net()\n",
    "\n",
    "            criterion = nn.CrossEntropyLoss()\n",
    "            optimizer = optim.SGD(net.parameters(), lr=s, momentum=m)\n",
    "\n",
    "            for epoch in range(e):  # 10 эпох \n",
    "                running_loss = 0.0 # Для вывода процесса обучения\n",
    "                for i, data in enumerate(train_loader, 0):\n",
    "                    inputs, labels = data[0], data[1]\n",
    "                    \n",
    "                    optimizer.zero_grad()\n",
    "                    out = net(inputs)\n",
    "                    loss = criterion(out, labels)\n",
    "                    loss.backward()\n",
    "                    optimizer.step()\n",
    "                  \n",
    "            outputs = net(images)\n",
    "            _, predicted = torch.max(outputs, 1)\n",
    "\n",
    "            preds = [classes[predicted[j]] for j in range(10)]\n",
    "\n",
    "            table = pd.DataFrame(list(zip([classes[l] for l in labels], preds)), columns=['class', 'pred'])\n",
    "\n",
    "            print(f'{s}\\t{m}\\t{e}\\t{calc_prec(table)}')"
   ]
  },
  {
   "cell_type": "code",
   "execution_count": null,
   "metadata": {},
   "outputs": [],
   "source": []
  },
  {
   "cell_type": "code",
   "execution_count": null,
   "metadata": {},
   "outputs": [],
   "source": []
  },
  {
   "cell_type": "code",
   "execution_count": null,
   "metadata": {},
   "outputs": [],
   "source": []
  },
  {
   "cell_type": "markdown",
   "metadata": {},
   "source": [
    "### 2. Переписать данный туториал на pytorch: \n",
    "https://www.tensorflow.org/tutorials/quickstart/beginner?hl=ru"
   ]
  },
  {
   "cell_type": "markdown",
   "metadata": {},
   "source": [
    "#### Краткое руководство по TensorFlow 2 для начинающих"
   ]
  },
  {
   "cell_type": "markdown",
   "metadata": {},
   "source": [
    "##### Импорт необходимых библиотек"
   ]
  },
  {
   "cell_type": "code",
   "execution_count": null,
   "metadata": {},
   "outputs": [],
   "source": [
    "import torch\n",
    "import torchvision"
   ]
  },
  {
   "cell_type": "code",
   "execution_count": null,
   "metadata": {},
   "outputs": [],
   "source": [
    "trainset = datasets.MNIST('../data/', download=True, train=True, transform=transform)\n",
    "valset = datasets.MNIST('../data/', download=True, train=False, transform=transform)\n",
    "trainloader = torch.utils.data.DataLoader(trainset, batch_size=64, shuffle=True)\n",
    "valloader = torch.utils.data.DataLoader(valset, batch_size=64, shuffle=True)"
   ]
  },
  {
   "cell_type": "code",
   "execution_count": null,
   "metadata": {},
   "outputs": [],
   "source": [
    "input_size = 784\n",
    "hidden_sizes = [128, 64]\n",
    "output_size = 10\n",
    "\n",
    "model = nn.Sequential(nn.Linear(input_size, hidden_sizes[0]),\n",
    "                      nn.ReLU(),\n",
    "                      nn.Linear(hidden_sizes[0], hidden_sizes[1]),\n",
    "                      nn.ReLU(),\n",
    "                      nn.Linear(hidden_sizes[1], output_size),\n",
    "                      nn.LogSoftmax(dim=1))\n",
    "print(model)"
   ]
  },
  {
   "cell_type": "code",
   "execution_count": null,
   "metadata": {},
   "outputs": [],
   "source": []
  },
  {
   "cell_type": "code",
   "execution_count": null,
   "metadata": {},
   "outputs": [],
   "source": []
  },
  {
   "cell_type": "code",
   "execution_count": null,
   "metadata": {},
   "outputs": [],
   "source": []
  }
 ],
 "metadata": {
  "kernelspec": {
   "display_name": "Python 3",
   "language": "python",
   "name": "python3"
  },
  "language_info": {
   "codemirror_mode": {
    "name": "ipython",
    "version": 3
   },
   "file_extension": ".py",
   "mimetype": "text/x-python",
   "name": "python",
   "nbconvert_exporter": "python",
   "pygments_lexer": "ipython3",
   "version": "3.7.6"
  }
 },
 "nbformat": 4,
 "nbformat_minor": 4
}
